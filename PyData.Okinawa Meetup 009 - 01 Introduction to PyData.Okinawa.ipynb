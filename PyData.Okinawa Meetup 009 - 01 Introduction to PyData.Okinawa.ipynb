{
 "cells": [
  {
   "cell_type": "markdown",
   "metadata": {
    "slideshow": {
     "slide_type": "skip"
    }
   },
   "source": [
    "# プレゼンテーションの始め方 ver.01\n",
    "\n",
    "[RISE](https://github.com/damianavila/RISE)をインストールして使う"
   ]
  },
  {
   "cell_type": "markdown",
   "metadata": {
    "slideshow": {
     "slide_type": "skip"
    }
   },
   "source": [
    "# プレゼンテーションの始め方 ver.02\n",
    "\n",
    "ターミナルに以下のコマンドをコピペ。\n",
    "\n",
    "```\n",
    "ipython nbconvert PyData.Okinawa\\ Meetup\\ 005\\ Introduction.ipynb --to slides --post serve --reveal-prefix \"http://cdn.jsdelivr.net/reveal.js/2.6.2\"\n",
    "```\n",
    "\n",
    "```.html``` のすぐ後に以下のコードをコピペ。\n",
    "\n",
    "```\n",
    "?theme=sky?transition=convex\n",
    "```"
   ]
  },
  {
   "cell_type": "markdown",
   "metadata": {
    "collapsed": true,
    "slideshow": {
     "slide_type": "slide"
    }
   },
   "source": [
    "# ようこそPyData.Okinawaへ\n",
    "\n",
    "- Twitter: @PyDataOkinawa (#PyDataOkinawa)\n",
    "- Connpass: http://pydataokinawa.connpass.com/ \n",
    "- HP: http://pydata.okinawa"
   ]
  },
  {
   "cell_type": "markdown",
   "metadata": {
    "slideshow": {
     "slide_type": "slide"
    }
   },
   "source": [
    "# 本日の予定\n",
    "\n",
    "\n",
    "| 時間 | 内容 |\tスピーカー |\n",
    "|:------|:------|:-------------|\n",
    "| 8:55\t| 開場 | |\n",
    "| 9:00-9:20 | PyData.Okinawaについて |\tオーガナイザー |\n",
    "| 9:20-9:30 | 自己紹介 | 全員 |\n",
    "| 9:30-10:15 | 養成読本　第１部　特集４<br/>深層学習最前線 |  大塚さん |\n",
    "| 10:15-10:30 | 休憩 |  |\n",
    "| 10:30-11:00 | Chainerのチュートリアル| 全員 |\n",
    "| 11:00-11:50 |コーディングセッション | 全員 |\n",
    "| 11:50-12:00 | 次回勉強会について | 全員 |"
   ]
  },
  {
   "cell_type": "markdown",
   "metadata": {
    "slideshow": {
     "slide_type": "slide"
    }
   },
   "source": [
    "# PyData.Okinawaとは？\n",
    "\n",
    "\n",
    "<div align=\"center\">\n",
    "<img src=surfing1.jpg width=700>\n",
    "Creative Commons BY 2.0:<br/>\n",
    "https://www.happytellus.com/gallery.php?img_id=2668\n",
    "</div>"
   ]
  },
  {
   "cell_type": "markdown",
   "metadata": {
    "slideshow": {
     "slide_type": "slide"
    }
   },
   "source": [
    "# PyData.Okinawaとは？\n",
    "\n",
    "<div align=\"center\">\n",
    "<img src=surfing2.jpg width=700>\n",
    "Creative Commons BY 2.0<br/>http://free-photo.net/archive/entry5175.html\n",
    "<div>"
   ]
  },
  {
   "cell_type": "markdown",
   "metadata": {
    "collapsed": true,
    "slideshow": {
     "slide_type": "slide"
    }
   },
   "source": [
    "# PyData.Okinawaとは?"
   ]
  },
  {
   "cell_type": "markdown",
   "metadata": {
    "slideshow": {
     "slide_type": "fragment"
    }
   },
   "source": [
    "- PyData.Okinawa は Python + Data に興味のある方が交流できる沖縄を拠点にしたコミュニティです。"
   ]
  },
  {
   "cell_type": "markdown",
   "metadata": {
    "slideshow": {
     "slide_type": "fragment"
    }
   },
   "source": [
    "- **データから新しい価値を生み出したいという想い**があれば、どのようなバックグラウンドを持った方でも自由に参加できるオープンなコミュニティです。"
   ]
  },
  {
   "cell_type": "markdown",
   "metadata": {
    "slideshow": {
     "slide_type": "fragment"
    }
   },
   "source": [
    "- 沖縄で定期的に開催される勉強会では**Pythonをメインな言語として使いますが**、機械学習やデータアナリティクスに興味を持つ方であれば**どのような言語を使うプログラマの方でも参加可能**です。"
   ]
  },
  {
   "cell_type": "markdown",
   "metadata": {
    "collapsed": true,
    "slideshow": {
     "slide_type": "slide"
    }
   },
   "source": [
    "# PyData.Okinawaとは?"
   ]
  },
  {
   "cell_type": "markdown",
   "metadata": {
    "slideshow": {
     "slide_type": "fragment"
    }
   },
   "source": [
    "- またハードルは高いかもしれませんが、これからPythonプログラミングを覚えたい初心者の方も大歓迎です。"
   ]
  },
  {
   "cell_type": "markdown",
   "metadata": {
    "slideshow": {
     "slide_type": "fragment"
    }
   },
   "source": [
    "- **沖縄県外のコミュニティとも積極的に交流**しながら、<u>次の世代をインスパイアするような</u>**新しい価値**を生み出していくことが**PyData.Okinawaの成功の姿**です。"
   ]
  },
  {
   "cell_type": "markdown",
   "metadata": {
    "slideshow": {
     "slide_type": "fragment"
    }
   },
   "source": [
    "<div align=\"center\"><b>\"データから始まる新しい価値を創造するコミュニティ\"</b></div>"
   ]
  },
  {
   "cell_type": "markdown",
   "metadata": {
    "slideshow": {
     "slide_type": "slide"
    }
   },
   "source": [
    "# PyData.Tokyoとは？\n",
    "\n",
    "**Python + Data を通じて Pythonistaと データ分析者が交流するコミュニティ**\n",
    "\n",
    "2014年09月に行われたPyConJP 2014での出逢いをきっかけに、PyData.Tokyoは生まれました。\n",
    "\n",
    "PyConJP 2014では、データ分析や機械学習関連の発表に非常に大きな関心が寄せられました。一方で、データの分析・可視化をするために必要な知識や技術について、深く議論できるコミュニティやカンファレンスがあればいいのに、という声も耳にしました。そんな想いに応えるべく誕生したのが、PyData.Tokyoです。\n",
    "\n",
    "PyData.Tokyoは、多様な分野で活躍しているPythonistaとデータ分析者がバランスよく交流できる、Python + Dataをテーマにしたコミュニティです。\n",
    "\n",
    "- [PyData.Tokyo Official HP](https://pydata.tokyo/)\n",
    "- [PyData.Tokyo@connpass](http://pydatatokyo.connpass.com/)"
   ]
  },
  {
   "cell_type": "markdown",
   "metadata": {
    "slideshow": {
     "slide_type": "slide"
    }
   },
   "source": [
    "# なぜPyData.Okinawaなのか?\n",
    "\n",
    "- データはこれからどんどん増えていく（IoT、医療、ソーシャルネットワーク、オープンデータ等）（[link](http://jp.techcrunch.com/2015/05/29/20150528free-dollars-and-fifty-free-cents/)）\n",
    "- そのデータから価値を引き出せると面白い（次の世代をインスパイアする新しい価値の創造）\n",
    "- 人とのつながりによる新しい情報や価値観との出会い\n",
    "- PyData.Okinawaは実験的な場\n",
    "- 沖縄県外のコミュニティとの協力体制（PyData.Tokyoなど）\n",
    "- 楽しくなくなったらやめる"
   ]
  },
  {
   "cell_type": "markdown",
   "metadata": {
    "slideshow": {
     "slide_type": "slide"
    }
   },
   "source": [
    "# PyData.Okinawa News"
   ]
  },
  {
   "cell_type": "markdown",
   "metadata": {
    "slideshow": {
     "slide_type": "slide"
    }
   },
   "source": [
    "# 本日は「しまね産業振興財団」の方々に来ていただいてます\n",
    "\n",
    "- [しまねソフト研究開発センター](http://www.s-itoc.jp/news/8)\n",
    "- [2015年12月から企業向けの機械学習勉強会](http://www.s-itoc.jp/activity/research/ml/29)"
   ]
  },
  {
   "cell_type": "markdown",
   "metadata": {
    "slideshow": {
     "slide_type": "slide"
    }
   },
   "source": [
    "# Jupyter Notebook 4.1 がリリースされました\n",
    "\n",
    "\n",
    "### アップデートの仕方\n",
    "- Anacondaなら\n",
    "```\n",
    "conda upgrade notebook  \n",
    "```\n",
    "- pipなら\n",
    "```\n",
    "pip install notebook --upgrade  \n",
    "```\n",
    "\n",
    "### できること\n",
    "- 複数セルの選択\n",
    "     - コマンドモードで Shift + J, Shift + K\n",
    "- 複数セルのマージ\n",
    "     - 複数セルを選択した状態でShift + M\n",
    "- コマンドパレット\n",
    "    - コマンドパレット Cmd + Shift + P\n",
    "- Kernelコマンドの追加\n",
    "    - Restart & Run All など\n",
    "- 検索と置換\n",
    "    - コマンドモードで f\n",
    "\n",
    "\n",
    "http://blog.jupyter.org/2016/01/08/notebook-4-1-release/"
   ]
  },
  {
   "cell_type": "markdown",
   "metadata": {
    "slideshow": {
     "slide_type": "slide"
    }
   },
   "source": [
    "# PyData.Okinawaの決まりごと\n",
    "\n",
    "## 日時 \n",
    "\n",
    "* 定期開催（毎月第３土曜日 9:00-12:00）\n",
    "\n",
    "## 参加費用\n",
    "\n",
    "- 1500円\n",
    "- 会場費 & 県外のコミュニティから人を呼んだりするため\n",
    "- 飲み代ではない\n",
    "- オーガナイザーも出す\n",
    "\n",
    "## その他\n",
    "\n",
    "- 楽しく、クリエイティブに"
   ]
  },
  {
   "cell_type": "markdown",
   "metadata": {
    "slideshow": {
     "slide_type": "slide"
    }
   },
   "source": [
    "# 自己紹介（ひとり1分ぐらい）\n",
    "\n",
    "* 名前\n",
    "* プロフィール（仕事・肩書きなど）\n",
    "* 参加の動機\n",
    "* 最近はまってること"
   ]
  },
  {
   "cell_type": "markdown",
   "metadata": {
    "slideshow": {
     "slide_type": "slide"
    }
   },
   "source": [
    "# 前回までのおさらい\n",
    "\n",
    "- [PyData.Okinawa Meetup #1 - PyData事始め](http://pydataokinawa.connpass.com/event/15567/)\n",
    "- [PyData.Okinawa Meetup #2 - データ可視化](http://pydataokinawa.connpass.com/event/16388/)\n",
    "- [PyData.Okinawa Meetup #3 - scikit-learn入門](http://pydataokinawa.connpass.com/event/17652/)\n",
    "- [PyData.Okinawa Meetup #4 - モデル選択](http://pydataokinawa.connpass.com/event/18396/)\n",
    "- [PyData.Okinawa Meetup #5 - 復習ミニハッカソン](http://pydataokinawa.connpass.com/event/20225/)\n",
    "- [PyData.Okinawa Meetup #6 - 「データサイエンティスト養成読本：機械学習入門編」読書会 1](http://pydataokinawa.connpass.com/event/20441/)\n",
    "- [PyData.Okinawa Meetup #7 - 「データサイエンティスト養成読本：機械学習入門編」読書会 2](http://pydataokinawa.connpass.com/event/21648/)\n",
    "- [PyData.Okinawa Meetup #8 - 「データサイエンティスト養成読本：機械学習入門編」読書会 3](http://pydataokinawa.connpass.com/event/23825/)"
   ]
  },
  {
   "cell_type": "markdown",
   "metadata": {
    "slideshow": {
     "slide_type": "slide"
    }
   },
   "source": [
    "# では前回に引き続き！\n",
    "\n",
    "- [データサイエンティスト養成読本 機械学習入門編 (Software Design plus)](http://gihyo.jp/book/2015/978-4-7741-7631-4)"
   ]
  }
 ],
 "metadata": {
  "celltoolbar": "Slideshow",
  "kernelspec": {
   "display_name": "Python 2",
   "language": "python",
   "name": "python2"
  },
  "language_info": {
   "codemirror_mode": {
    "name": "ipython",
    "version": 2
   },
   "file_extension": ".py",
   "mimetype": "text/x-python",
   "name": "python",
   "nbconvert_exporter": "python",
   "pygments_lexer": "ipython2",
   "version": "2.7.11"
  }
 },
 "nbformat": 4,
 "nbformat_minor": 0
}
